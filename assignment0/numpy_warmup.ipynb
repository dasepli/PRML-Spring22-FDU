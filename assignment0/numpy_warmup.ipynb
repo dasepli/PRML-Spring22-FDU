{
 "cells": [
  {
   "cell_type": "markdown",
   "metadata": {
    "collapsed": false
   },
   "source": [
    "# Numpy热身\n",
    "numpy是常用的科学计算库，下面是对numpy的一些基本操作的练习。\n",
    "\n",
    "相关文档:\n",
    "- [python3文档](https://docs.python.org/3/)\n",
    "- [numpy文档](https://numpy.org/doc/)\n",
    "- [matplotlib教程](https://matplotlib.org/stable/tutorials/index)"
   ]
  },
  {
   "cell_type": "markdown",
   "metadata": {
    "collapsed": false
   },
   "source": [
    "1.(导入numpy库) 导入numpy库并命名为np"
   ]
  },
  {
   "cell_type": "code",
   "execution_count": 1,
   "metadata": {
    "collapsed": false
   },
   "outputs": [],
   "source": [
    "import numpy as np"
   ]
  },
  {
   "cell_type": "markdown",
   "metadata": {
    "collapsed": false
   },
   "source": [
    "2.(一维数组) 建立一个一维数组 a 初始化为[4,5,6]   \n",
    "\t1)打印a    \n",
    "\t2)输出a的类型（type）    \n",
    "   3)输出a的各维度的大小（shape）      \n",
    "   4)输出a的第一个元素（值为4）    "
   ]
  },
  {
   "cell_type": "code",
   "execution_count": 2,
   "metadata": {
    "collapsed": false
   },
   "outputs": [
    {
     "name": "stdout",
     "output_type": "stream",
     "text": [
      "[4 5 6]\n",
      "<class 'numpy.ndarray'>\n",
      "(3,)\n",
      "4\n"
     ]
    }
   ],
   "source": [
    "a = np.array([4,5,6])\r\n",
    "\r\n",
    "print (a)\r\n",
    "print (type(a))\r\n",
    "print (a.shape)\r\n",
    "print (a[0])"
   ]
  },
  {
   "cell_type": "markdown",
   "metadata": {
    "collapsed": false
   },
   "source": [
    "3.(二维数组) 建立一个二维数组b, 初始化为[[4, 5, 6],[1, 2, 3]]\t    \n",
    "\t1)输出各维度的大小（shape）\t       \n",
    "   2)输出b(0,0),b(0,1),b(1,1)这三个元素（对应值分别为4,5,2）       "
   ]
  },
  {
   "cell_type": "code",
   "execution_count": 3,
   "metadata": {
    "collapsed": false
   },
   "outputs": [
    {
     "name": "stdout",
     "output_type": "stream",
     "text": [
      "(2, 3)\n",
      "4 5 2\n"
     ]
    }
   ],
   "source": [
    "b = np.array([[4, 5, 6],[1, 2, 3]])\r\n",
    "\r\n",
    "print (b.shape)\r\n",
    "print (b[0][0],b[0,1],b[1,1])"
   ]
  },
  {
   "cell_type": "markdown",
   "metadata": {
    "collapsed": false
   },
   "source": [
    "4.(创建特殊矩阵) 创建并分别打印下列矩阵：    \n",
    "    1)全0矩阵a，大小为3x3，类型为整型    \n",
    "    2)全1矩阵b，大小为4x5    \n",
    "    3)单位矩阵c，大小为4x4\t    \n",
    "    4)随机数矩阵d，大小为3x2，随机种子设置为233"
   ]
  },
  {
   "cell_type": "code",
   "execution_count": 4,
   "metadata": {
    "collapsed": false
   },
   "outputs": [
    {
     "name": "stdout",
     "output_type": "stream",
     "text": [
      "[[0 0 0]\n",
      " [0 0 0]\n",
      " [0 0 0]]\n",
      "[[1. 1. 1. 1. 1.]\n",
      " [1. 1. 1. 1. 1.]\n",
      " [1. 1. 1. 1. 1.]\n",
      " [1. 1. 1. 1. 1.]]\n",
      "[[1. 0. 0. 0.]\n",
      " [0. 1. 0. 0.]\n",
      " [0. 0. 1. 0.]\n",
      " [0. 0. 0. 1.]]\n",
      "[[0.14946913 0.8922156 ]\n",
      " [0.58316564 0.89974018]\n",
      " [0.34890549 0.14842378]]\n"
     ]
    }
   ],
   "source": [
    "a = np.zeros((3,3),dtype=int)\r\n",
    "print (a)\r\n",
    "\r\n",
    "b = np.ones((4,5))\r\n",
    "print (b)\r\n",
    "\r\n",
    "c = np.eye(4)\r\n",
    "print (c)\r\n",
    "\r\n",
    "np.random.seed(233)\r\n",
    "d = np.random.random((3,2))\r\n",
    "print (d)"
   ]
  },
  {
   "cell_type": "markdown",
   "metadata": {
    "collapsed": false
   },
   "source": [
    "5.(数组索引与切片) 建立一个数组a,值为[[1, 2, 3, 4],[5, 6, 7, 8],[9, 10, 11, 12],[13, 14, 15, 16]]     \n",
    "\t1)打印a    \n",
    "   2)得到a中心2x2大小的矩阵[[6,7],[10,11]]，令其为b，打印b      \n",
    "   3)修改b的(0,0)位置的值为17，打印b，打印a    \n",
    "   4)打印a最后两行组成的矩阵[[9, 10, 11, 12],[13, 14, 15, 16]]（使用a[num1:num2,:]等操作）     \n",
    "   5)打印a最后一行组成的数组[13, 14, 15, 16]（使用a[-1]或者a[-1,:]等操作）   \n",
    "   6)打印a的(0,0),(1,1),(2,0)这几个位置的元素[1,17,9]（使用a[[0,1,2],[0,1,0]]等操作）    \n",
    "   7)打印a的(0,3),(1,2),(2,1),(3,2)这几个位置的元素[4,7,10,15]（使用np.arange()等操作）    \n",
    "   8)打印a的(0,3),(1,2),(2,1),(3,2)这几个位置的元素都加10后的矩阵（使用+=10等操作）     \n",
    "   9)打印8)得到的a中所有大于10的元素组成的数组（使用 bool_idx = (a>10)等操作）"
   ]
  },
  {
   "cell_type": "code",
   "execution_count": 5,
   "metadata": {
    "collapsed": false
   },
   "outputs": [
    {
     "name": "stdout",
     "output_type": "stream",
     "text": [
      "[[ 1  2  3  4]\n",
      " [ 5  6  7  8]\n",
      " [ 9 10 11 12]\n",
      " [13 14 15 16]]\n",
      "[[ 6  7]\n",
      " [10 11]]\n",
      "[[17  7]\n",
      " [10 11]]\n",
      "[[ 1  2  3  4]\n",
      " [ 5 17  7  8]\n",
      " [ 9 10 11 12]\n",
      " [13 14 15 16]]\n",
      "[[ 9 10 11 12]\n",
      " [13 14 15 16]]\n",
      "[13 14 15 16]\n",
      "[13 14 15 16]\n",
      "[ 1 17  9]\n",
      "[ 4  7 10 15]\n",
      "[[ 1  2  3 14]\n",
      " [ 5 17 17  8]\n",
      " [ 9 20 11 12]\n",
      " [13 14 25 16]]\n",
      "[14 17 17 20 11 12 13 14 25 16]\n"
     ]
    }
   ],
   "source": [
    "a = np.array([[1, 2, 3, 4],[5, 6, 7, 8],[9, 10, 11, 12],[13, 14, 15, 16]])\r\n",
    "b = a[1:3,1:3]\r\n",
    "print (a)\r\n",
    "print (b)\r\n",
    "\r\n",
    "b[0,0] = 17\r\n",
    "print (b)\r\n",
    "print (a)\r\n",
    "\r\n",
    "print (a[-2:,:])\r\n",
    "print (a[-1])\r\n",
    "print (a[-1,:])\r\n",
    "print (a[[0,1,2],[0,1,0]])\r\n",
    "print (a[np.arange(4),[3,2,1,2]])\r\n",
    "\r\n",
    "a[np.arange(4),[3,2,1,2]] += 10\r\n",
    "print (a)\r\n",
    "\r\n",
    "bool_idx = (a>10)\r\n",
    "print (a[bool_idx])"
   ]
  },
  {
   "cell_type": "markdown",
   "metadata": {
    "collapsed": false
   },
   "source": [
    "6.(数据类型与数学运算) 完成下列操作并打印相应结果    \n",
    "\t1)执行x = np.array([1, 2])，y = np.array([1.0, 2.0])，打印x,y及其内部元素的数据类型    \n",
    "   2)执行x = np.array([[1, 2],[3, 4]], dtype=np.float64)，y = np.array([[5, 6],[7, 8]], dtype=np.float64)，输出x+y, np.add(x,y), x-y, np.subtract(x,y)   \n",
    "   3)对2)中x和y执行x\\*y, np.multiply(x,y), np.matmul(x,y), np.dot(x,y)    \n",
    "   4)对2)中x和y执行x.add(y)，x.dot(y)操作(其中一个执行失败)\n",
    "   5)对2)中x和y执行对应元素相除操作x/y, np.divide(x,y)    \n",
    "   6)对2)中x执行平方、开方操作    \n",
    "   7)对2)中x执行所有元素求和, 按照行求平均, 按照列求最大值操作;然后尝试使用keepdims参数    \n",
    "   8)对2)中x转置    \n",
    "   9)对2)中x所有元素求e的指数    \n",
    "   10)对2)中x所有元素求值最大元素的下标, 再按照行和列求最大元素的下标\n",
    "   11)执行x = np.array([[1,2,3], [4,5,6], [7,8,9], [10, 11, 12]]), v = np.array([1, 0, 1],然后执行x+y操作"
   ]
  },
  {
   "cell_type": "code",
   "execution_count": 6,
   "metadata": {
    "collapsed": false
   },
   "outputs": [
    {
     "name": "stdout",
     "output_type": "stream",
     "text": [
      "[1 2] [1. 2.]\n",
      "int64 float64\n",
      "[[ 6.  8.]\n",
      " [10. 12.]]\n",
      "[[ 6.  8.]\n",
      " [10. 12.]]\n",
      "[[-4. -4.]\n",
      " [-4. -4.]]\n",
      "[[-4. -4.]\n",
      " [-4. -4.]]\n",
      "[[ 5. 12.]\n",
      " [21. 32.]]\n",
      "[[ 5. 12.]\n",
      " [21. 32.]]\n",
      "[[19. 22.]\n",
      " [43. 50.]]\n",
      "[[19. 22.]\n",
      " [43. 50.]]\n",
      "[[19. 22.]\n",
      " [43. 50.]]\n",
      "[[0.2        0.33333333]\n",
      " [0.42857143 0.5       ]]\n",
      "[[0.2        0.33333333]\n",
      " [0.42857143 0.5       ]]\n",
      "[[ 1.  4.]\n",
      " [ 9. 16.]]\n",
      "[[1.         1.41421356]\n",
      " [1.73205081 2.        ]]\n",
      "10.0\n",
      "[[1.5]\n",
      " [3.5]]\n",
      "[[1. 3.]\n",
      " [2. 4.]]\n",
      "3\n",
      "[1 1]\n",
      "[[ 1  2  3]\n",
      " [ 4  5  6]\n",
      " [ 7  8  9]\n",
      " [10 11 12]]\n",
      "[[ 2  2  4]\n",
      " [ 5  5  7]\n",
      " [ 8  8 10]\n",
      " [11 11 13]]\n"
     ]
    }
   ],
   "source": [
    "x = np.array([1, 2])\r\n",
    "y = np.array([1.0, 2.0])\r\n",
    "print (x,y)\r\n",
    "print (x.dtype,y.dtype)\r\n",
    "\r\n",
    "x = np.array([[1, 2],[3, 4]], dtype=np.float64)\r\n",
    "y = np.array([[5, 6],[7, 8]], dtype=np.float64)\r\n",
    "print (x+y)\r\n",
    "print (np.add(x,y))\r\n",
    "print (x-y)\r\n",
    "print (np.subtract(x,y))\r\n",
    "#print (x.add(y))\r\n",
    "print (x*y)\r\n",
    "print (np.multiply(x,y))\r\n",
    "print (np.matmul(x,y))\r\n",
    "print (np.dot(x,y))\r\n",
    "print (x.dot(y))\r\n",
    "print (x/y)\r\n",
    "print (np.divide(x,y))\r\n",
    "print (x**2)\r\n",
    "print (np.sqrt(x))\r\n",
    "print (x.sum())\r\n",
    "print (x.mean(axis=1,keepdims=True))\r\n",
    "print (x.T)\r\n",
    "print (np.argmax(x))\r\n",
    "print (np.argmax(x, axis=0))\r\n",
    "\r\n",
    "x = np.array([[1,2,3], [4,5,6], [7,8,9], [10, 11, 12]])\r\n",
    "v = np.array([1, 0, 1])\r\n",
    "print (x)\r\n",
    "print (x+v)"
   ]
  },
  {
   "cell_type": "markdown",
   "metadata": {
    "collapsed": false
   },
   "source": [
    "7.(更改数组形状) 执行x = np.array([[0,1],[2,3]]),并执行下列操作    \n",
    "\t1)分别执行x.resize((1,4)), x.resize((1,2)), x.resize((2,4)), x.resize((2,3)),并打印x    \n",
    "   2)对原始x分别执行x.reshape((1,4)),x.reshape((-1,4)), x.reshape((2,4)),观察reshape操作和resize操作的区别     \n",
    "   3)尝试在上述操作中使用x.view(),观察view()操作的作用"
   ]
  },
  {
   "cell_type": "code",
   "execution_count": 7,
   "metadata": {
    "collapsed": false
   },
   "outputs": [
    {
     "name": "stdout",
     "output_type": "stream",
     "text": [
      "[[0 1 2 3]]\n"
     ]
    }
   ],
   "source": [
    "x = np.array([[0,1],[2,3]])\r\n",
    "print (x.reshape((1,4)))\r\n",
    "# print (a.resize((1,2)))\r\n",
    "# print (a.resize((2,4)))\r\n",
    "# print (a.resize((2,3)))"
   ]
  },
  {
   "cell_type": "markdown",
   "metadata": {
    "collapsed": false
   },
   "source": [
    "8.(使用matplotlib.pyplot库作图) 导入matplotlib.pyplot库,尝试绘制下列图形     \n",
    "\t1)y = x\\*x,其中x = np.arange(0,100,0.1)     \n",
    "   2)y = sin(x), y = cos(x),其中x = x = np.arange(0, 3 * np.pi, 0.1)    "
   ]
  },
  {
   "cell_type": "code",
   "execution_count": 8,
   "metadata": {
    "collapsed": false
   },
   "outputs": [
    {
     "data": {
      "image/png": "[encoded data removed]",
      "text/plain": [
       "<Figure size 432x288 with 1 Axes>"
      ]
     },
     "metadata": {},
     "output_type": "display_data"
    }
   ],
   "source": [
    "# 使图像在当前窗口显示\r\n",
    "%matplotlib inline \r\n",
    "import matplotlib.pyplot as plt \r\n",
    "x = np.arange(0,100,0.1)   \r\n",
    "plt.plot(x,x*x)\r\n",
    "plt.show()"
   ]
  },
  {
   "cell_type": "markdown",
   "metadata": {
    "collapsed": false
   },
   "source": [
    "### 参考 \n",
    "- [nndl-exercise](https://github.com/nndl/exercise/blob/master/chap1_warmup/numpy_%20tutorial.ipynb)\n",
    "- [CS231N numpy tutorial](https://cs231n.github.io/python-numpy-tutorial/)"
   ]
  }
 ],
 "metadata": {
  "kernelspec": {
   "display_name": "Python 3",
   "language": "python",
   "name": "py35-paddle1.2.0"
  },
  "language_info": {
   "codemirror_mode": {
    "name": "ipython",
    "version": 3
   },
   "file_extension": ".py",
   "mimetype": "text/x-python",
   "name": "python",
   "nbconvert_exporter": "python",
   "pygments_lexer": "ipython3",
   "version": "3.7.4"
  }
 },
 "nbformat": 4,
 "nbformat_minor": 1
}
